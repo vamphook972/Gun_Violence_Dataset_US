{
 "cells": [
  {
   "cell_type": "markdown",
   "metadata": {
    "id": "EJLhAizdcSFE"
   },
   "source": [
    "# ***USO DE DISPOSITIVOS MOBILES Y***\n",
    "# ***COMPORTAMIENTO DE SUS USUARIOS***"
   ]
  },
  {
   "cell_type": "markdown",
   "metadata": {
    "id": "D7TYqpY4cUSP"
   },
   "source": [
    "## **Integrantes**\n",
    "\n",
    "### **Santiago Ituyan Figueroa**\n",
    "### **Victor Andres Martinez Preciado**\n",
    "### **Juan Estevan Viera Cano**"
   ]
  },
  {
   "cell_type": "markdown",
   "metadata": {
    "id": "E3INW0Pum2b4"
   },
   "source": [
    "# **Contexto**"
   ]
  },
  {
   "cell_type": "markdown",
   "metadata": {
    "id": "a8OUCWZEmr8p"
   },
   "source": [
    "*Este conjunto de datos nos proporciona una vista profunda a los casos de tiroteos masivos en Estados Unidos durante el presente año 2024. El dataset contiene datos de incidentes ocurridos hasta el 20 de Octubre de 2024 provenientes del \"Gun Violence Archive\".*\n",
    "\n",
    "*Capta detalles esenciales como la identificacion del incidente, la fecha, el estado, la ciudad, la cantidad de victimas (muertas y heridas) y los sospechosos involucrados. Ademas, se incluyen coordenadas geograficas para permitir el analisis espacial de las tendencias de la violencia relacionada a armas de fuego*\n",
    "\n",
    "<center>\n",
    "<img src=\"https://storage.googleapis.com/kaggle-datasets-images/5922722/9688271/1b5be348ab4e74955b45718b32ca4472/dataset-cover.png?t=2024-10-23-02-56-25\">\n",
    "</center>"
   ]
  },
  {
   "cell_type": "markdown",
   "metadata": {
    "id": "VcEeBvI5p3EB"
   },
   "source": [
    "# **Link del DATASET**\n",
    "\n",
    "### *https://www.kaggle.com/datasets/whisperingkahuna/gunviolence1?resource=download*"
   ]
  },
  {
   "cell_type": "markdown",
   "metadata": {
    "id": "ajvMJhihm9Jk"
   },
   "source": [
    "# **Atributos de Columnas**"
   ]
  },
  {
   "cell_type": "markdown",
   "metadata": {
    "id": "o7qVETmNnAEf"
   },
   "source": [
    "*  **Incident IDs:** El ID de cada incidente para identificarlos individualmente\n",
    "*  **Incident Date:** La fecha de cada incidente\n",
    "*  **State and City/County:** El estado y la ciudad o estado del incidente\n",
    "*  **Victims Killed:** La cantidad de victimas asesinadas\n",
    "*  **Victims Injured:** La cantidad de victimas lastimadas\n",
    "*  **Suspects Killed:** La cantidad de sospechosos asesinados\n",
    "*  **Suspects Injured:** La cantidad de sospechosos lastimados\n",
    "*  **Suspects Arrested:** La cantidad de sospechosos arrestados\n",
    "* **Suspects:** La cantidad de sospechosos total de cada incidente\n",
    "* **Latitude - Longitude:** Las coordenadas del incidente dividido en las dos columnas de latitud y longitud\n",
    "* **Coordinates_Found:** Un valor booleano donde se muestra si se encontraron coordenadas o no"
   ]
  },
  {
   "cell_type": "code",
   "execution_count": 14,
   "metadata": {},
   "outputs": [
    {
     "name": "stdout",
     "output_type": "stream",
     "text": [
      "Defaulting to user installation because normal site-packages is not writeable\n",
      "Requirement already satisfied: pandas in c:\\users\\vamp\\appdata\\local\\packages\\pythonsoftwarefoundation.python.3.12_qbz5n2kfra8p0\\localcache\\local-packages\\python312\\site-packages (2.2.3)\n",
      "Requirement already satisfied: numpy>=1.26.0 in c:\\users\\vamp\\appdata\\local\\packages\\pythonsoftwarefoundation.python.3.12_qbz5n2kfra8p0\\localcache\\local-packages\\python312\\site-packages (from pandas) (2.1.3)\n",
      "Requirement already satisfied: python-dateutil>=2.8.2 in c:\\users\\vamp\\appdata\\local\\packages\\pythonsoftwarefoundation.python.3.12_qbz5n2kfra8p0\\localcache\\local-packages\\python312\\site-packages (from pandas) (2.9.0.post0)\n",
      "Requirement already satisfied: pytz>=2020.1 in c:\\users\\vamp\\appdata\\local\\packages\\pythonsoftwarefoundation.python.3.12_qbz5n2kfra8p0\\localcache\\local-packages\\python312\\site-packages (from pandas) (2024.2)\n",
      "Requirement already satisfied: tzdata>=2022.7 in c:\\users\\vamp\\appdata\\local\\packages\\pythonsoftwarefoundation.python.3.12_qbz5n2kfra8p0\\localcache\\local-packages\\python312\\site-packages (from pandas) (2024.2)\n",
      "Requirement already satisfied: six>=1.5 in c:\\users\\vamp\\appdata\\local\\packages\\pythonsoftwarefoundation.python.3.12_qbz5n2kfra8p0\\localcache\\local-packages\\python312\\site-packages (from python-dateutil>=2.8.2->pandas) (1.16.0)\n"
     ]
    },
    {
     "name": "stderr",
     "output_type": "stream",
     "text": [
      "\n",
      "[notice] A new release of pip is available: 24.2 -> 24.3.1\n",
      "[notice] To update, run: C:\\Users\\vamp\\AppData\\Local\\Microsoft\\WindowsApps\\PythonSoftwareFoundation.Python.3.12_qbz5n2kfra8p0\\python.exe -m pip install --upgrade pip\n"
     ]
    },
    {
     "name": "stdout",
     "output_type": "stream",
     "text": [
      "Defaulting to user installation because normal site-packages is not writeable\n",
      "Requirement already satisfied: numpy in c:\\users\\vamp\\appdata\\local\\packages\\pythonsoftwarefoundation.python.3.12_qbz5n2kfra8p0\\localcache\\local-packages\\python312\\site-packages (2.1.3)\n"
     ]
    },
    {
     "name": "stderr",
     "output_type": "stream",
     "text": [
      "\n",
      "[notice] A new release of pip is available: 24.2 -> 24.3.1\n",
      "[notice] To update, run: C:\\Users\\vamp\\AppData\\Local\\Microsoft\\WindowsApps\\PythonSoftwareFoundation.Python.3.12_qbz5n2kfra8p0\\python.exe -m pip install --upgrade pip\n"
     ]
    },
    {
     "name": "stdout",
     "output_type": "stream",
     "text": [
      "Defaulting to user installation because normal site-packages is not writeable\n",
      "Requirement already satisfied: matplotlib in c:\\users\\vamp\\appdata\\local\\packages\\pythonsoftwarefoundation.python.3.12_qbz5n2kfra8p0\\localcache\\local-packages\\python312\\site-packages (3.9.2)\n",
      "Requirement already satisfied: contourpy>=1.0.1 in c:\\users\\vamp\\appdata\\local\\packages\\pythonsoftwarefoundation.python.3.12_qbz5n2kfra8p0\\localcache\\local-packages\\python312\\site-packages (from matplotlib) (1.3.1)\n",
      "Requirement already satisfied: cycler>=0.10 in c:\\users\\vamp\\appdata\\local\\packages\\pythonsoftwarefoundation.python.3.12_qbz5n2kfra8p0\\localcache\\local-packages\\python312\\site-packages (from matplotlib) (0.12.1)\n",
      "Requirement already satisfied: fonttools>=4.22.0 in c:\\users\\vamp\\appdata\\local\\packages\\pythonsoftwarefoundation.python.3.12_qbz5n2kfra8p0\\localcache\\local-packages\\python312\\site-packages (from matplotlib) (4.54.1)\n",
      "Requirement already satisfied: kiwisolver>=1.3.1 in c:\\users\\vamp\\appdata\\local\\packages\\pythonsoftwarefoundation.python.3.12_qbz5n2kfra8p0\\localcache\\local-packages\\python312\\site-packages (from matplotlib) (1.4.7)\n",
      "Requirement already satisfied: numpy>=1.23 in c:\\users\\vamp\\appdata\\local\\packages\\pythonsoftwarefoundation.python.3.12_qbz5n2kfra8p0\\localcache\\local-packages\\python312\\site-packages (from matplotlib) (2.1.3)\n",
      "Requirement already satisfied: packaging>=20.0 in c:\\users\\vamp\\appdata\\local\\packages\\pythonsoftwarefoundation.python.3.12_qbz5n2kfra8p0\\localcache\\local-packages\\python312\\site-packages (from matplotlib) (24.1)\n",
      "Requirement already satisfied: pillow>=8 in c:\\users\\vamp\\appdata\\local\\packages\\pythonsoftwarefoundation.python.3.12_qbz5n2kfra8p0\\localcache\\local-packages\\python312\\site-packages (from matplotlib) (11.0.0)\n",
      "Requirement already satisfied: pyparsing>=2.3.1 in c:\\users\\vamp\\appdata\\local\\packages\\pythonsoftwarefoundation.python.3.12_qbz5n2kfra8p0\\localcache\\local-packages\\python312\\site-packages (from matplotlib) (3.2.0)\n",
      "Requirement already satisfied: python-dateutil>=2.7 in c:\\users\\vamp\\appdata\\local\\packages\\pythonsoftwarefoundation.python.3.12_qbz5n2kfra8p0\\localcache\\local-packages\\python312\\site-packages (from matplotlib) (2.9.0.post0)\n",
      "Requirement already satisfied: six>=1.5 in c:\\users\\vamp\\appdata\\local\\packages\\pythonsoftwarefoundation.python.3.12_qbz5n2kfra8p0\\localcache\\local-packages\\python312\\site-packages (from python-dateutil>=2.7->matplotlib) (1.16.0)\n"
     ]
    },
    {
     "name": "stderr",
     "output_type": "stream",
     "text": [
      "\n",
      "[notice] A new release of pip is available: 24.2 -> 24.3.1\n",
      "[notice] To update, run: C:\\Users\\vamp\\AppData\\Local\\Microsoft\\WindowsApps\\PythonSoftwareFoundation.Python.3.12_qbz5n2kfra8p0\\python.exe -m pip install --upgrade pip\n"
     ]
    },
    {
     "name": "stdout",
     "output_type": "stream",
     "text": [
      "Defaulting to user installation because normal site-packages is not writeable\n",
      "Requirement already satisfied: seaborn in c:\\users\\vamp\\appdata\\local\\packages\\pythonsoftwarefoundation.python.3.12_qbz5n2kfra8p0\\localcache\\local-packages\\python312\\site-packages (0.13.2)\n",
      "Requirement already satisfied: numpy!=1.24.0,>=1.20 in c:\\users\\vamp\\appdata\\local\\packages\\pythonsoftwarefoundation.python.3.12_qbz5n2kfra8p0\\localcache\\local-packages\\python312\\site-packages (from seaborn) (2.1.3)\n",
      "Requirement already satisfied: pandas>=1.2 in c:\\users\\vamp\\appdata\\local\\packages\\pythonsoftwarefoundation.python.3.12_qbz5n2kfra8p0\\localcache\\local-packages\\python312\\site-packages (from seaborn) (2.2.3)\n",
      "Requirement already satisfied: matplotlib!=3.6.1,>=3.4 in c:\\users\\vamp\\appdata\\local\\packages\\pythonsoftwarefoundation.python.3.12_qbz5n2kfra8p0\\localcache\\local-packages\\python312\\site-packages (from seaborn) (3.9.2)\n",
      "Requirement already satisfied: contourpy>=1.0.1 in c:\\users\\vamp\\appdata\\local\\packages\\pythonsoftwarefoundation.python.3.12_qbz5n2kfra8p0\\localcache\\local-packages\\python312\\site-packages (from matplotlib!=3.6.1,>=3.4->seaborn) (1.3.1)\n",
      "Requirement already satisfied: cycler>=0.10 in c:\\users\\vamp\\appdata\\local\\packages\\pythonsoftwarefoundation.python.3.12_qbz5n2kfra8p0\\localcache\\local-packages\\python312\\site-packages (from matplotlib!=3.6.1,>=3.4->seaborn) (0.12.1)\n",
      "Requirement already satisfied: fonttools>=4.22.0 in c:\\users\\vamp\\appdata\\local\\packages\\pythonsoftwarefoundation.python.3.12_qbz5n2kfra8p0\\localcache\\local-packages\\python312\\site-packages (from matplotlib!=3.6.1,>=3.4->seaborn) (4.54.1)\n",
      "Requirement already satisfied: kiwisolver>=1.3.1 in c:\\users\\vamp\\appdata\\local\\packages\\pythonsoftwarefoundation.python.3.12_qbz5n2kfra8p0\\localcache\\local-packages\\python312\\site-packages (from matplotlib!=3.6.1,>=3.4->seaborn) (1.4.7)\n",
      "Requirement already satisfied: packaging>=20.0 in c:\\users\\vamp\\appdata\\local\\packages\\pythonsoftwarefoundation.python.3.12_qbz5n2kfra8p0\\localcache\\local-packages\\python312\\site-packages (from matplotlib!=3.6.1,>=3.4->seaborn) (24.1)\n",
      "Requirement already satisfied: pillow>=8 in c:\\users\\vamp\\appdata\\local\\packages\\pythonsoftwarefoundation.python.3.12_qbz5n2kfra8p0\\localcache\\local-packages\\python312\\site-packages (from matplotlib!=3.6.1,>=3.4->seaborn) (11.0.0)\n",
      "Requirement already satisfied: pyparsing>=2.3.1 in c:\\users\\vamp\\appdata\\local\\packages\\pythonsoftwarefoundation.python.3.12_qbz5n2kfra8p0\\localcache\\local-packages\\python312\\site-packages (from matplotlib!=3.6.1,>=3.4->seaborn) (3.2.0)\n",
      "Requirement already satisfied: python-dateutil>=2.7 in c:\\users\\vamp\\appdata\\local\\packages\\pythonsoftwarefoundation.python.3.12_qbz5n2kfra8p0\\localcache\\local-packages\\python312\\site-packages (from matplotlib!=3.6.1,>=3.4->seaborn) (2.9.0.post0)\n",
      "Requirement already satisfied: pytz>=2020.1 in c:\\users\\vamp\\appdata\\local\\packages\\pythonsoftwarefoundation.python.3.12_qbz5n2kfra8p0\\localcache\\local-packages\\python312\\site-packages (from pandas>=1.2->seaborn) (2024.2)\n",
      "Requirement already satisfied: tzdata>=2022.7 in c:\\users\\vamp\\appdata\\local\\packages\\pythonsoftwarefoundation.python.3.12_qbz5n2kfra8p0\\localcache\\local-packages\\python312\\site-packages (from pandas>=1.2->seaborn) (2024.2)\n",
      "Requirement already satisfied: six>=1.5 in c:\\users\\vamp\\appdata\\local\\packages\\pythonsoftwarefoundation.python.3.12_qbz5n2kfra8p0\\localcache\\local-packages\\python312\\site-packages (from python-dateutil>=2.7->matplotlib!=3.6.1,>=3.4->seaborn) (1.16.0)\n"
     ]
    },
    {
     "name": "stderr",
     "output_type": "stream",
     "text": [
      "\n",
      "[notice] A new release of pip is available: 24.2 -> 24.3.1\n",
      "[notice] To update, run: C:\\Users\\vamp\\AppData\\Local\\Microsoft\\WindowsApps\\PythonSoftwareFoundation.Python.3.12_qbz5n2kfra8p0\\python.exe -m pip install --upgrade pip\n"
     ]
    },
    {
     "name": "stdout",
     "output_type": "stream",
     "text": [
      "Defaulting to user installation because normal site-packages is not writeable\n",
      "Requirement already satisfied: tabulate in c:\\users\\vamp\\appdata\\local\\packages\\pythonsoftwarefoundation.python.3.12_qbz5n2kfra8p0\\localcache\\local-packages\\python312\\site-packages (0.9.0)\n"
     ]
    },
    {
     "name": "stderr",
     "output_type": "stream",
     "text": [
      "\n",
      "[notice] A new release of pip is available: 24.2 -> 24.3.1\n",
      "[notice] To update, run: C:\\Users\\vamp\\AppData\\Local\\Microsoft\\WindowsApps\\PythonSoftwareFoundation.Python.3.12_qbz5n2kfra8p0\\python.exe -m pip install --upgrade pip\n"
     ]
    }
   ],
   "source": [
    "!pip install pandas\n",
    "!pip install numpy\n",
    "!pip install matplotlib\n",
    "!pip install seaborn\n",
    "!pip install tabulate"
   ]
  },
  {
   "cell_type": "code",
   "execution_count": 15,
   "metadata": {
    "id": "Aw7Rbxcfa2wB"
   },
   "outputs": [],
   "source": [
    "import pandas as pd\n",
    "import numpy as np\n",
    "import matplotlib.pyplot as plt\n",
    "import seaborn as sns\n",
    "import tabulate"
   ]
  },
  {
   "cell_type": "code",
   "execution_count": 16,
   "metadata": {
    "colab": {
     "base_uri": "https://localhost:8080/"
    },
    "id": "ho0CpqX8cAxG",
    "outputId": "0b1660aa-b0a1-4ff0-aeed-642bd53a9ffa"
   },
   "outputs": [
    {
     "ename": "ModuleNotFoundError",
     "evalue": "No module named 'google'",
     "output_type": "error",
     "traceback": [
      "\u001b[1;31m---------------------------------------------------------------------------\u001b[0m",
      "\u001b[1;31mModuleNotFoundError\u001b[0m                       Traceback (most recent call last)",
      "Cell \u001b[1;32mIn[16], line 1\u001b[0m\n\u001b[1;32m----> 1\u001b[0m \u001b[38;5;28;01mfrom\u001b[39;00m \u001b[38;5;21;01mgoogle\u001b[39;00m\u001b[38;5;21;01m.\u001b[39;00m\u001b[38;5;21;01mcolab\u001b[39;00m \u001b[38;5;28;01mimport\u001b[39;00m drive\n\u001b[0;32m      2\u001b[0m drive\u001b[38;5;241m.\u001b[39mmount(\u001b[38;5;124m'\u001b[39m\u001b[38;5;124m/gdrive\u001b[39m\u001b[38;5;124m'\u001b[39m)\n",
      "\u001b[1;31mModuleNotFoundError\u001b[0m: No module named 'google'"
     ]
    }
   ],
   "source": [
    "from google.colab import drive\n",
    "drive.mount('/gdrive')"
   ]
  },
  {
   "cell_type": "code",
   "execution_count": 17,
   "metadata": {
    "id": "Vc0TwN0FcEDt"
   },
   "outputs": [],
   "source": [
    "df = pd.read_csv('./Gun_violence_Dataset_US.csv')"
   ]
  },
  {
   "cell_type": "code",
   "execution_count": 18,
   "metadata": {
    "colab": {
     "base_uri": "https://localhost:8080/",
     "height": 327
    },
    "id": "OYuR4pnOjV_h",
    "outputId": "79675be0-98ab-44c5-aa88-03f7e5fe4c46"
   },
   "outputs": [
    {
     "data": {
      "text/html": [
       "<div>\n",
       "<style scoped>\n",
       "    .dataframe tbody tr th:only-of-type {\n",
       "        vertical-align: middle;\n",
       "    }\n",
       "\n",
       "    .dataframe tbody tr th {\n",
       "        vertical-align: top;\n",
       "    }\n",
       "\n",
       "    .dataframe thead th {\n",
       "        text-align: right;\n",
       "    }\n",
       "</style>\n",
       "<table border=\"1\" class=\"dataframe\">\n",
       "  <thead>\n",
       "    <tr style=\"text-align: right;\">\n",
       "      <th></th>\n",
       "      <th>Incident ID</th>\n",
       "      <th>Incident Date</th>\n",
       "      <th>State</th>\n",
       "      <th>City Or County</th>\n",
       "      <th>Address</th>\n",
       "      <th>Victims Killed</th>\n",
       "      <th>Victims Injured</th>\n",
       "      <th>Suspects Killed</th>\n",
       "      <th>Suspects Injured</th>\n",
       "      <th>Suspects Arrested</th>\n",
       "      <th>Operations</th>\n",
       "      <th>Latitude</th>\n",
       "      <th>Longitude</th>\n",
       "      <th>Coordinates_Found</th>\n",
       "    </tr>\n",
       "  </thead>\n",
       "  <tbody>\n",
       "    <tr>\n",
       "      <th>0</th>\n",
       "      <td>3052758</td>\n",
       "      <td>October 21, 2024</td>\n",
       "      <td>Washington</td>\n",
       "      <td>Fall City</td>\n",
       "      <td>7700 block of Lake Alice Rd SE</td>\n",
       "      <td>5</td>\n",
       "      <td>1</td>\n",
       "      <td>0</td>\n",
       "      <td>0</td>\n",
       "      <td>1</td>\n",
       "      <td>NaN</td>\n",
       "      <td>47.56812</td>\n",
       "      <td>-121.89086</td>\n",
       "      <td>Yes</td>\n",
       "    </tr>\n",
       "    <tr>\n",
       "      <th>1</th>\n",
       "      <td>3052028</td>\n",
       "      <td>October 20, 2024</td>\n",
       "      <td>Tennessee</td>\n",
       "      <td>Jackson</td>\n",
       "      <td>2310 N Highland Ave</td>\n",
       "      <td>1</td>\n",
       "      <td>8</td>\n",
       "      <td>0</td>\n",
       "      <td>0</td>\n",
       "      <td>0</td>\n",
       "      <td>NaN</td>\n",
       "      <td>35.61390</td>\n",
       "      <td>-88.81940</td>\n",
       "      <td>Yes</td>\n",
       "    </tr>\n",
       "    <tr>\n",
       "      <th>2</th>\n",
       "      <td>3051984</td>\n",
       "      <td>October 20, 2024</td>\n",
       "      <td>Louisiana</td>\n",
       "      <td>Baton Rouge</td>\n",
       "      <td>9700 block of Greenwell Springs Rd</td>\n",
       "      <td>0</td>\n",
       "      <td>5</td>\n",
       "      <td>0</td>\n",
       "      <td>0</td>\n",
       "      <td>0</td>\n",
       "      <td>NaN</td>\n",
       "      <td>30.44335</td>\n",
       "      <td>-91.18664</td>\n",
       "      <td>Yes</td>\n",
       "    </tr>\n",
       "    <tr>\n",
       "      <th>3</th>\n",
       "      <td>3051041</td>\n",
       "      <td>October 19, 2024</td>\n",
       "      <td>Pennsylvania</td>\n",
       "      <td>Philadelphia</td>\n",
       "      <td>2517 N Jessup St</td>\n",
       "      <td>0</td>\n",
       "      <td>7</td>\n",
       "      <td>0</td>\n",
       "      <td>0</td>\n",
       "      <td>0</td>\n",
       "      <td>NaN</td>\n",
       "      <td>39.95222</td>\n",
       "      <td>-75.16218</td>\n",
       "      <td>Yes</td>\n",
       "    </tr>\n",
       "    <tr>\n",
       "      <th>4</th>\n",
       "      <td>3050940</td>\n",
       "      <td>October 19, 2024</td>\n",
       "      <td>Mississippi</td>\n",
       "      <td>Lexington</td>\n",
       "      <td>24904 MS-17</td>\n",
       "      <td>3</td>\n",
       "      <td>8</td>\n",
       "      <td>0</td>\n",
       "      <td>0</td>\n",
       "      <td>0</td>\n",
       "      <td>NaN</td>\n",
       "      <td>33.11464</td>\n",
       "      <td>-90.05281</td>\n",
       "      <td>Yes</td>\n",
       "    </tr>\n",
       "  </tbody>\n",
       "</table>\n",
       "</div>"
      ],
      "text/plain": [
       "   Incident ID     Incident Date         State City Or County  \\\n",
       "0      3052758  October 21, 2024    Washington      Fall City   \n",
       "1      3052028  October 20, 2024     Tennessee        Jackson   \n",
       "2      3051984  October 20, 2024     Louisiana    Baton Rouge   \n",
       "3      3051041  October 19, 2024  Pennsylvania   Philadelphia   \n",
       "4      3050940  October 19, 2024   Mississippi      Lexington   \n",
       "\n",
       "                              Address  Victims Killed  Victims Injured  \\\n",
       "0      7700 block of Lake Alice Rd SE               5                1   \n",
       "1                 2310 N Highland Ave               1                8   \n",
       "2  9700 block of Greenwell Springs Rd               0                5   \n",
       "3                    2517 N Jessup St               0                7   \n",
       "4                         24904 MS-17               3                8   \n",
       "\n",
       "   Suspects Killed  Suspects Injured  Suspects Arrested  Operations  Latitude  \\\n",
       "0                0                 0                  1         NaN  47.56812   \n",
       "1                0                 0                  0         NaN  35.61390   \n",
       "2                0                 0                  0         NaN  30.44335   \n",
       "3                0                 0                  0         NaN  39.95222   \n",
       "4                0                 0                  0         NaN  33.11464   \n",
       "\n",
       "   Longitude Coordinates_Found  \n",
       "0 -121.89086               Yes  \n",
       "1  -88.81940               Yes  \n",
       "2  -91.18664               Yes  \n",
       "3  -75.16218               Yes  \n",
       "4  -90.05281               Yes  "
      ]
     },
     "execution_count": 18,
     "metadata": {},
     "output_type": "execute_result"
    }
   ],
   "source": [
    "df.head()"
   ]
  },
  {
   "cell_type": "code",
   "execution_count": 19,
   "metadata": {
    "colab": {
     "base_uri": "https://localhost:8080/"
    },
    "id": "pHqA1c5soOST",
    "outputId": "40c2f5dc-d3d6-4074-acba-46916302bd80"
   },
   "outputs": [
    {
     "name": "stdout",
     "output_type": "stream",
     "text": [
      "<class 'pandas.core.frame.DataFrame'>\n",
      "RangeIndex: 427 entries, 0 to 426\n",
      "Data columns (total 14 columns):\n",
      " #   Column             Non-Null Count  Dtype  \n",
      "---  ------             --------------  -----  \n",
      " 0   Incident ID        427 non-null    int64  \n",
      " 1   Incident Date      427 non-null    object \n",
      " 2   State              427 non-null    object \n",
      " 3   City Or County     427 non-null    object \n",
      " 4   Address            426 non-null    object \n",
      " 5   Victims Killed     427 non-null    int64  \n",
      " 6   Victims Injured    427 non-null    int64  \n",
      " 7   Suspects Killed    427 non-null    int64  \n",
      " 8   Suspects Injured   427 non-null    int64  \n",
      " 9   Suspects Arrested  427 non-null    int64  \n",
      " 10  Operations         0 non-null      float64\n",
      " 11  Latitude           427 non-null    float64\n",
      " 12  Longitude          427 non-null    float64\n",
      " 13  Coordinates_Found  427 non-null    object \n",
      "dtypes: float64(3), int64(6), object(5)\n",
      "memory usage: 46.8+ KB\n"
     ]
    }
   ],
   "source": [
    "df.info()"
   ]
  },
  {
   "cell_type": "code",
   "execution_count": 20,
   "metadata": {
    "colab": {
     "base_uri": "https://localhost:8080/",
     "height": 300
    },
    "id": "O3SFjyxcoP5f",
    "outputId": "3aa60e82-1c14-42a0-d308-883bb8b51a82"
   },
   "outputs": [
    {
     "data": {
      "text/html": [
       "<div>\n",
       "<style scoped>\n",
       "    .dataframe tbody tr th:only-of-type {\n",
       "        vertical-align: middle;\n",
       "    }\n",
       "\n",
       "    .dataframe tbody tr th {\n",
       "        vertical-align: top;\n",
       "    }\n",
       "\n",
       "    .dataframe thead th {\n",
       "        text-align: right;\n",
       "    }\n",
       "</style>\n",
       "<table border=\"1\" class=\"dataframe\">\n",
       "  <thead>\n",
       "    <tr style=\"text-align: right;\">\n",
       "      <th></th>\n",
       "      <th>Incident ID</th>\n",
       "      <th>Victims Killed</th>\n",
       "      <th>Victims Injured</th>\n",
       "      <th>Suspects Killed</th>\n",
       "      <th>Suspects Injured</th>\n",
       "      <th>Suspects Arrested</th>\n",
       "      <th>Operations</th>\n",
       "      <th>Latitude</th>\n",
       "      <th>Longitude</th>\n",
       "    </tr>\n",
       "  </thead>\n",
       "  <tbody>\n",
       "    <tr>\n",
       "      <th>count</th>\n",
       "      <td>4.270000e+02</td>\n",
       "      <td>427.000000</td>\n",
       "      <td>427.000000</td>\n",
       "      <td>427.000000</td>\n",
       "      <td>427.000000</td>\n",
       "      <td>427.000000</td>\n",
       "      <td>0.0</td>\n",
       "      <td>427.000000</td>\n",
       "      <td>427.000000</td>\n",
       "    </tr>\n",
       "    <tr>\n",
       "      <th>mean</th>\n",
       "      <td>2.929432e+06</td>\n",
       "      <td>1.000000</td>\n",
       "      <td>4.437939</td>\n",
       "      <td>0.070258</td>\n",
       "      <td>0.063232</td>\n",
       "      <td>0.711944</td>\n",
       "      <td>NaN</td>\n",
       "      <td>36.941819</td>\n",
       "      <td>-88.791959</td>\n",
       "    </tr>\n",
       "    <tr>\n",
       "      <th>std</th>\n",
       "      <td>6.876031e+04</td>\n",
       "      <td>1.210285</td>\n",
       "      <td>2.849555</td>\n",
       "      <td>0.264896</td>\n",
       "      <td>0.271030</td>\n",
       "      <td>1.178414</td>\n",
       "      <td>NaN</td>\n",
       "      <td>4.934289</td>\n",
       "      <td>12.976850</td>\n",
       "    </tr>\n",
       "    <tr>\n",
       "      <th>min</th>\n",
       "      <td>2.791411e+06</td>\n",
       "      <td>0.000000</td>\n",
       "      <td>0.000000</td>\n",
       "      <td>0.000000</td>\n",
       "      <td>0.000000</td>\n",
       "      <td>0.000000</td>\n",
       "      <td>NaN</td>\n",
       "      <td>21.449910</td>\n",
       "      <td>-166.739450</td>\n",
       "    </tr>\n",
       "    <tr>\n",
       "      <th>25%</th>\n",
       "      <td>2.879320e+06</td>\n",
       "      <td>0.000000</td>\n",
       "      <td>3.000000</td>\n",
       "      <td>0.000000</td>\n",
       "      <td>0.000000</td>\n",
       "      <td>0.000000</td>\n",
       "      <td>NaN</td>\n",
       "      <td>33.449545</td>\n",
       "      <td>-91.910580</td>\n",
       "    </tr>\n",
       "    <tr>\n",
       "      <th>50%</th>\n",
       "      <td>2.939030e+06</td>\n",
       "      <td>1.000000</td>\n",
       "      <td>4.000000</td>\n",
       "      <td>0.000000</td>\n",
       "      <td>0.000000</td>\n",
       "      <td>0.000000</td>\n",
       "      <td>NaN</td>\n",
       "      <td>37.687490</td>\n",
       "      <td>-86.811790</td>\n",
       "    </tr>\n",
       "    <tr>\n",
       "      <th>75%</th>\n",
       "      <td>2.982807e+06</td>\n",
       "      <td>1.000000</td>\n",
       "      <td>5.000000</td>\n",
       "      <td>0.000000</td>\n",
       "      <td>0.000000</td>\n",
       "      <td>1.000000</td>\n",
       "      <td>NaN</td>\n",
       "      <td>40.692450</td>\n",
       "      <td>-80.735325</td>\n",
       "    </tr>\n",
       "    <tr>\n",
       "      <th>max</th>\n",
       "      <td>3.052758e+06</td>\n",
       "      <td>8.000000</td>\n",
       "      <td>28.000000</td>\n",
       "      <td>2.000000</td>\n",
       "      <td>2.000000</td>\n",
       "      <td>7.000000</td>\n",
       "      <td>NaN</td>\n",
       "      <td>68.349440</td>\n",
       "      <td>-70.256650</td>\n",
       "    </tr>\n",
       "  </tbody>\n",
       "</table>\n",
       "</div>"
      ],
      "text/plain": [
       "        Incident ID  Victims Killed  Victims Injured  Suspects Killed  \\\n",
       "count  4.270000e+02      427.000000       427.000000       427.000000   \n",
       "mean   2.929432e+06        1.000000         4.437939         0.070258   \n",
       "std    6.876031e+04        1.210285         2.849555         0.264896   \n",
       "min    2.791411e+06        0.000000         0.000000         0.000000   \n",
       "25%    2.879320e+06        0.000000         3.000000         0.000000   \n",
       "50%    2.939030e+06        1.000000         4.000000         0.000000   \n",
       "75%    2.982807e+06        1.000000         5.000000         0.000000   \n",
       "max    3.052758e+06        8.000000        28.000000         2.000000   \n",
       "\n",
       "       Suspects Injured  Suspects Arrested  Operations    Latitude   Longitude  \n",
       "count        427.000000         427.000000         0.0  427.000000  427.000000  \n",
       "mean           0.063232           0.711944         NaN   36.941819  -88.791959  \n",
       "std            0.271030           1.178414         NaN    4.934289   12.976850  \n",
       "min            0.000000           0.000000         NaN   21.449910 -166.739450  \n",
       "25%            0.000000           0.000000         NaN   33.449545  -91.910580  \n",
       "50%            0.000000           0.000000         NaN   37.687490  -86.811790  \n",
       "75%            0.000000           1.000000         NaN   40.692450  -80.735325  \n",
       "max            2.000000           7.000000         NaN   68.349440  -70.256650  "
      ]
     },
     "execution_count": 20,
     "metadata": {},
     "output_type": "execute_result"
    }
   ],
   "source": [
    "df.describe()"
   ]
  },
  {
   "cell_type": "code",
   "execution_count": 21,
   "metadata": {
    "colab": {
     "base_uri": "https://localhost:8080/",
     "height": 523
    },
    "id": "fCbYIdpto27z",
    "outputId": "ee7d474b-3525-4d4f-f7db-c1c01c6afc02"
   },
   "outputs": [
    {
     "data": {
      "text/plain": [
       "Incident ID            int64\n",
       "Incident Date         object\n",
       "State                 object\n",
       "City Or County        object\n",
       "Address               object\n",
       "Victims Killed         int64\n",
       "Victims Injured        int64\n",
       "Suspects Killed        int64\n",
       "Suspects Injured       int64\n",
       "Suspects Arrested      int64\n",
       "Operations           float64\n",
       "Latitude             float64\n",
       "Longitude            float64\n",
       "Coordinates_Found     object\n",
       "dtype: object"
      ]
     },
     "execution_count": 21,
     "metadata": {},
     "output_type": "execute_result"
    }
   ],
   "source": [
    "df.dtypes"
   ]
  },
  {
   "cell_type": "code",
   "execution_count": 22,
   "metadata": {
    "id": "HneP_v1Pmx3y"
   },
   "outputs": [],
   "source": [
    "df1 = df.copy()"
   ]
  },
  {
   "cell_type": "markdown",
   "metadata": {
    "id": "pQkUzmPDdmPU"
   },
   "source": [
    "# **Limpieza de datos**"
   ]
  },
  {
   "cell_type": "markdown",
   "metadata": {
    "id": "zSx7snz6YSkz"
   },
   "source": [
    "### Hacemos limpieza de datos nulos"
   ]
  },
  {
   "cell_type": "code",
   "execution_count": 23,
   "metadata": {
    "id": "4S-bfMn-Xf47"
   },
   "outputs": [],
   "source": [
    "df1 = df.drop(columns=['Operations'])"
   ]
  },
  {
   "cell_type": "code",
   "execution_count": 24,
   "metadata": {
    "colab": {
     "base_uri": "https://localhost:8080/",
     "height": 310
    },
    "id": "4TipGcYoZlc3",
    "outputId": "12461d61-d652-4be1-fca9-52e98739b3a0"
   },
   "outputs": [
    {
     "data": {
      "text/html": [
       "<div>\n",
       "<style scoped>\n",
       "    .dataframe tbody tr th:only-of-type {\n",
       "        vertical-align: middle;\n",
       "    }\n",
       "\n",
       "    .dataframe tbody tr th {\n",
       "        vertical-align: top;\n",
       "    }\n",
       "\n",
       "    .dataframe thead th {\n",
       "        text-align: right;\n",
       "    }\n",
       "</style>\n",
       "<table border=\"1\" class=\"dataframe\">\n",
       "  <thead>\n",
       "    <tr style=\"text-align: right;\">\n",
       "      <th></th>\n",
       "      <th>Incident ID</th>\n",
       "      <th>Incident Date</th>\n",
       "      <th>State</th>\n",
       "      <th>City Or County</th>\n",
       "      <th>Address</th>\n",
       "      <th>Victims Killed</th>\n",
       "      <th>Victims Injured</th>\n",
       "      <th>Suspects Killed</th>\n",
       "      <th>Suspects Injured</th>\n",
       "      <th>Suspects Arrested</th>\n",
       "      <th>Latitude</th>\n",
       "      <th>Longitude</th>\n",
       "      <th>Coordinates_Found</th>\n",
       "    </tr>\n",
       "  </thead>\n",
       "  <tbody>\n",
       "    <tr>\n",
       "      <th>0</th>\n",
       "      <td>3052758</td>\n",
       "      <td>October 21, 2024</td>\n",
       "      <td>Washington</td>\n",
       "      <td>Fall City</td>\n",
       "      <td>7700 block of Lake Alice Rd SE</td>\n",
       "      <td>5</td>\n",
       "      <td>1</td>\n",
       "      <td>0</td>\n",
       "      <td>0</td>\n",
       "      <td>1</td>\n",
       "      <td>47.56812</td>\n",
       "      <td>-121.89086</td>\n",
       "      <td>Yes</td>\n",
       "    </tr>\n",
       "    <tr>\n",
       "      <th>1</th>\n",
       "      <td>3052028</td>\n",
       "      <td>October 20, 2024</td>\n",
       "      <td>Tennessee</td>\n",
       "      <td>Jackson</td>\n",
       "      <td>2310 N Highland Ave</td>\n",
       "      <td>1</td>\n",
       "      <td>8</td>\n",
       "      <td>0</td>\n",
       "      <td>0</td>\n",
       "      <td>0</td>\n",
       "      <td>35.61390</td>\n",
       "      <td>-88.81940</td>\n",
       "      <td>Yes</td>\n",
       "    </tr>\n",
       "    <tr>\n",
       "      <th>2</th>\n",
       "      <td>3051984</td>\n",
       "      <td>October 20, 2024</td>\n",
       "      <td>Louisiana</td>\n",
       "      <td>Baton Rouge</td>\n",
       "      <td>9700 block of Greenwell Springs Rd</td>\n",
       "      <td>0</td>\n",
       "      <td>5</td>\n",
       "      <td>0</td>\n",
       "      <td>0</td>\n",
       "      <td>0</td>\n",
       "      <td>30.44335</td>\n",
       "      <td>-91.18664</td>\n",
       "      <td>Yes</td>\n",
       "    </tr>\n",
       "    <tr>\n",
       "      <th>3</th>\n",
       "      <td>3051041</td>\n",
       "      <td>October 19, 2024</td>\n",
       "      <td>Pennsylvania</td>\n",
       "      <td>Philadelphia</td>\n",
       "      <td>2517 N Jessup St</td>\n",
       "      <td>0</td>\n",
       "      <td>7</td>\n",
       "      <td>0</td>\n",
       "      <td>0</td>\n",
       "      <td>0</td>\n",
       "      <td>39.95222</td>\n",
       "      <td>-75.16218</td>\n",
       "      <td>Yes</td>\n",
       "    </tr>\n",
       "    <tr>\n",
       "      <th>4</th>\n",
       "      <td>3050940</td>\n",
       "      <td>October 19, 2024</td>\n",
       "      <td>Mississippi</td>\n",
       "      <td>Lexington</td>\n",
       "      <td>24904 MS-17</td>\n",
       "      <td>3</td>\n",
       "      <td>8</td>\n",
       "      <td>0</td>\n",
       "      <td>0</td>\n",
       "      <td>0</td>\n",
       "      <td>33.11464</td>\n",
       "      <td>-90.05281</td>\n",
       "      <td>Yes</td>\n",
       "    </tr>\n",
       "  </tbody>\n",
       "</table>\n",
       "</div>"
      ],
      "text/plain": [
       "   Incident ID     Incident Date         State City Or County  \\\n",
       "0      3052758  October 21, 2024    Washington      Fall City   \n",
       "1      3052028  October 20, 2024     Tennessee        Jackson   \n",
       "2      3051984  October 20, 2024     Louisiana    Baton Rouge   \n",
       "3      3051041  October 19, 2024  Pennsylvania   Philadelphia   \n",
       "4      3050940  October 19, 2024   Mississippi      Lexington   \n",
       "\n",
       "                              Address  Victims Killed  Victims Injured  \\\n",
       "0      7700 block of Lake Alice Rd SE               5                1   \n",
       "1                 2310 N Highland Ave               1                8   \n",
       "2  9700 block of Greenwell Springs Rd               0                5   \n",
       "3                    2517 N Jessup St               0                7   \n",
       "4                         24904 MS-17               3                8   \n",
       "\n",
       "   Suspects Killed  Suspects Injured  Suspects Arrested  Latitude  Longitude  \\\n",
       "0                0                 0                  1  47.56812 -121.89086   \n",
       "1                0                 0                  0  35.61390  -88.81940   \n",
       "2                0                 0                  0  30.44335  -91.18664   \n",
       "3                0                 0                  0  39.95222  -75.16218   \n",
       "4                0                 0                  0  33.11464  -90.05281   \n",
       "\n",
       "  Coordinates_Found  \n",
       "0               Yes  \n",
       "1               Yes  \n",
       "2               Yes  \n",
       "3               Yes  \n",
       "4               Yes  "
      ]
     },
     "execution_count": 24,
     "metadata": {},
     "output_type": "execute_result"
    }
   ],
   "source": [
    "df1.head()"
   ]
  },
  {
   "cell_type": "markdown",
   "metadata": {
    "id": "aYT6pZsLaAr3"
   },
   "source": [
    "### quitamos la columna Coordinates_found, ya que todos los valores son el mismo tipo de dato: True"
   ]
  },
  {
   "cell_type": "code",
   "execution_count": 25,
   "metadata": {
    "id": "ZpX7RFAwaOQU"
   },
   "outputs": [],
   "source": [
    "df1 = df1.drop(columns=['Coordinates_Found'])"
   ]
  },
  {
   "cell_type": "code",
   "execution_count": null,
   "metadata": {
    "colab": {
     "base_uri": "https://localhost:8080/",
     "height": 310
    },
    "id": "98U-KYT8aZJO",
    "outputId": "5ae51406-af96-4d92-a180-3d7149efd0e4"
   },
   "outputs": [
    {
     "data": {
      "text/html": [
       "<div>\n",
       "<style scoped>\n",
       "    .dataframe tbody tr th:only-of-type {\n",
       "        vertical-align: middle;\n",
       "    }\n",
       "\n",
       "    .dataframe tbody tr th {\n",
       "        vertical-align: top;\n",
       "    }\n",
       "\n",
       "    .dataframe thead th {\n",
       "        text-align: right;\n",
       "    }\n",
       "</style>\n",
       "<table border=\"1\" class=\"dataframe\">\n",
       "  <thead>\n",
       "    <tr style=\"text-align: right;\">\n",
       "      <th></th>\n",
       "      <th>Incident ID</th>\n",
       "      <th>Incident Date</th>\n",
       "      <th>State</th>\n",
       "      <th>City Or County</th>\n",
       "      <th>Address</th>\n",
       "      <th>Victims Killed</th>\n",
       "      <th>Victims Injured</th>\n",
       "      <th>Suspects Killed</th>\n",
       "      <th>Suspects Injured</th>\n",
       "      <th>Suspects Arrested</th>\n",
       "      <th>Latitude</th>\n",
       "      <th>Longitude</th>\n",
       "    </tr>\n",
       "  </thead>\n",
       "  <tbody>\n",
       "    <tr>\n",
       "      <th>0</th>\n",
       "      <td>3052758</td>\n",
       "      <td>October 21, 2024</td>\n",
       "      <td>Washington</td>\n",
       "      <td>Fall City</td>\n",
       "      <td>7700 block of Lake Alice Rd SE</td>\n",
       "      <td>5</td>\n",
       "      <td>1</td>\n",
       "      <td>0</td>\n",
       "      <td>0</td>\n",
       "      <td>1</td>\n",
       "      <td>47.56812</td>\n",
       "      <td>-121.89086</td>\n",
       "    </tr>\n",
       "    <tr>\n",
       "      <th>1</th>\n",
       "      <td>3052028</td>\n",
       "      <td>October 20, 2024</td>\n",
       "      <td>Tennessee</td>\n",
       "      <td>Jackson</td>\n",
       "      <td>2310 N Highland Ave</td>\n",
       "      <td>1</td>\n",
       "      <td>8</td>\n",
       "      <td>0</td>\n",
       "      <td>0</td>\n",
       "      <td>0</td>\n",
       "      <td>35.61390</td>\n",
       "      <td>-88.81940</td>\n",
       "    </tr>\n",
       "    <tr>\n",
       "      <th>2</th>\n",
       "      <td>3051984</td>\n",
       "      <td>October 20, 2024</td>\n",
       "      <td>Louisiana</td>\n",
       "      <td>Baton Rouge</td>\n",
       "      <td>9700 block of Greenwell Springs Rd</td>\n",
       "      <td>0</td>\n",
       "      <td>5</td>\n",
       "      <td>0</td>\n",
       "      <td>0</td>\n",
       "      <td>0</td>\n",
       "      <td>30.44335</td>\n",
       "      <td>-91.18664</td>\n",
       "    </tr>\n",
       "    <tr>\n",
       "      <th>3</th>\n",
       "      <td>3051041</td>\n",
       "      <td>October 19, 2024</td>\n",
       "      <td>Pennsylvania</td>\n",
       "      <td>Philadelphia</td>\n",
       "      <td>2517 N Jessup St</td>\n",
       "      <td>0</td>\n",
       "      <td>7</td>\n",
       "      <td>0</td>\n",
       "      <td>0</td>\n",
       "      <td>0</td>\n",
       "      <td>39.95222</td>\n",
       "      <td>-75.16218</td>\n",
       "    </tr>\n",
       "    <tr>\n",
       "      <th>4</th>\n",
       "      <td>3050940</td>\n",
       "      <td>October 19, 2024</td>\n",
       "      <td>Mississippi</td>\n",
       "      <td>Lexington</td>\n",
       "      <td>24904 MS-17</td>\n",
       "      <td>3</td>\n",
       "      <td>8</td>\n",
       "      <td>0</td>\n",
       "      <td>0</td>\n",
       "      <td>0</td>\n",
       "      <td>33.11464</td>\n",
       "      <td>-90.05281</td>\n",
       "    </tr>\n",
       "  </tbody>\n",
       "</table>\n",
       "</div>"
      ],
      "text/plain": [
       "   Incident ID     Incident Date         State City Or County  \\\n",
       "0      3052758  October 21, 2024    Washington      Fall City   \n",
       "1      3052028  October 20, 2024     Tennessee        Jackson   \n",
       "2      3051984  October 20, 2024     Louisiana    Baton Rouge   \n",
       "3      3051041  October 19, 2024  Pennsylvania   Philadelphia   \n",
       "4      3050940  October 19, 2024   Mississippi      Lexington   \n",
       "\n",
       "                              Address  Victims Killed  Victims Injured  \\\n",
       "0      7700 block of Lake Alice Rd SE               5                1   \n",
       "1                 2310 N Highland Ave               1                8   \n",
       "2  9700 block of Greenwell Springs Rd               0                5   \n",
       "3                    2517 N Jessup St               0                7   \n",
       "4                         24904 MS-17               3                8   \n",
       "\n",
       "   Suspects Killed  Suspects Injured  Suspects Arrested  Latitude  Longitude  \n",
       "0                0                 0                  1  47.56812 -121.89086  \n",
       "1                0                 0                  0  35.61390  -88.81940  \n",
       "2                0                 0                  0  30.44335  -91.18664  \n",
       "3                0                 0                  0  39.95222  -75.16218  \n",
       "4                0                 0                  0  33.11464  -90.05281  "
      ]
     },
     "execution_count": 137,
     "metadata": {},
     "output_type": "execute_result"
    }
   ],
   "source": [
    "df1.head()"
   ]
  },
  {
   "cell_type": "code",
   "execution_count": 26,
   "metadata": {
    "id": "JkzzHIkYd7-v"
   },
   "outputs": [],
   "source": [
    "df1 = df1.set_axis(['ID Incidente', 'Fecha del Incidente', 'Estado', 'Ciudad', 'Direccion', 'Victimas Asesinadas',\n",
    "                            'Victimas Heridas', 'Sospechosos Asesinados', 'Sospechosos Heridos','Sospechosos Arrestados',\n",
    "                            'Latitud', 'Longitud'], axis = 1)"
   ]
  },
  {
   "cell_type": "code",
   "execution_count": 27,
   "metadata": {
    "colab": {
     "base_uri": "https://localhost:8080/",
     "height": 310
    },
    "id": "dZnm12X0eigy",
    "outputId": "0b1f8916-72e8-4f4b-8a81-2ff68d555ae1"
   },
   "outputs": [
    {
     "data": {
      "text/html": [
       "<div>\n",
       "<style scoped>\n",
       "    .dataframe tbody tr th:only-of-type {\n",
       "        vertical-align: middle;\n",
       "    }\n",
       "\n",
       "    .dataframe tbody tr th {\n",
       "        vertical-align: top;\n",
       "    }\n",
       "\n",
       "    .dataframe thead th {\n",
       "        text-align: right;\n",
       "    }\n",
       "</style>\n",
       "<table border=\"1\" class=\"dataframe\">\n",
       "  <thead>\n",
       "    <tr style=\"text-align: right;\">\n",
       "      <th></th>\n",
       "      <th>ID Incidente</th>\n",
       "      <th>Fecha del Incidente</th>\n",
       "      <th>Estado</th>\n",
       "      <th>Ciudad</th>\n",
       "      <th>Direccion</th>\n",
       "      <th>Victimas Asesinadas</th>\n",
       "      <th>Victimas Heridas</th>\n",
       "      <th>Sospechosos Asesinados</th>\n",
       "      <th>Sospechosos Heridos</th>\n",
       "      <th>Sospechosos Arrestados</th>\n",
       "      <th>Latitud</th>\n",
       "      <th>Longitud</th>\n",
       "    </tr>\n",
       "  </thead>\n",
       "  <tbody>\n",
       "    <tr>\n",
       "      <th>0</th>\n",
       "      <td>3052758</td>\n",
       "      <td>October 21, 2024</td>\n",
       "      <td>Washington</td>\n",
       "      <td>Fall City</td>\n",
       "      <td>7700 block of Lake Alice Rd SE</td>\n",
       "      <td>5</td>\n",
       "      <td>1</td>\n",
       "      <td>0</td>\n",
       "      <td>0</td>\n",
       "      <td>1</td>\n",
       "      <td>47.56812</td>\n",
       "      <td>-121.89086</td>\n",
       "    </tr>\n",
       "    <tr>\n",
       "      <th>1</th>\n",
       "      <td>3052028</td>\n",
       "      <td>October 20, 2024</td>\n",
       "      <td>Tennessee</td>\n",
       "      <td>Jackson</td>\n",
       "      <td>2310 N Highland Ave</td>\n",
       "      <td>1</td>\n",
       "      <td>8</td>\n",
       "      <td>0</td>\n",
       "      <td>0</td>\n",
       "      <td>0</td>\n",
       "      <td>35.61390</td>\n",
       "      <td>-88.81940</td>\n",
       "    </tr>\n",
       "    <tr>\n",
       "      <th>2</th>\n",
       "      <td>3051984</td>\n",
       "      <td>October 20, 2024</td>\n",
       "      <td>Louisiana</td>\n",
       "      <td>Baton Rouge</td>\n",
       "      <td>9700 block of Greenwell Springs Rd</td>\n",
       "      <td>0</td>\n",
       "      <td>5</td>\n",
       "      <td>0</td>\n",
       "      <td>0</td>\n",
       "      <td>0</td>\n",
       "      <td>30.44335</td>\n",
       "      <td>-91.18664</td>\n",
       "    </tr>\n",
       "    <tr>\n",
       "      <th>3</th>\n",
       "      <td>3051041</td>\n",
       "      <td>October 19, 2024</td>\n",
       "      <td>Pennsylvania</td>\n",
       "      <td>Philadelphia</td>\n",
       "      <td>2517 N Jessup St</td>\n",
       "      <td>0</td>\n",
       "      <td>7</td>\n",
       "      <td>0</td>\n",
       "      <td>0</td>\n",
       "      <td>0</td>\n",
       "      <td>39.95222</td>\n",
       "      <td>-75.16218</td>\n",
       "    </tr>\n",
       "    <tr>\n",
       "      <th>4</th>\n",
       "      <td>3050940</td>\n",
       "      <td>October 19, 2024</td>\n",
       "      <td>Mississippi</td>\n",
       "      <td>Lexington</td>\n",
       "      <td>24904 MS-17</td>\n",
       "      <td>3</td>\n",
       "      <td>8</td>\n",
       "      <td>0</td>\n",
       "      <td>0</td>\n",
       "      <td>0</td>\n",
       "      <td>33.11464</td>\n",
       "      <td>-90.05281</td>\n",
       "    </tr>\n",
       "  </tbody>\n",
       "</table>\n",
       "</div>"
      ],
      "text/plain": [
       "   ID Incidente Fecha del Incidente        Estado        Ciudad  \\\n",
       "0       3052758    October 21, 2024    Washington     Fall City   \n",
       "1       3052028    October 20, 2024     Tennessee       Jackson   \n",
       "2       3051984    October 20, 2024     Louisiana   Baton Rouge   \n",
       "3       3051041    October 19, 2024  Pennsylvania  Philadelphia   \n",
       "4       3050940    October 19, 2024   Mississippi     Lexington   \n",
       "\n",
       "                            Direccion  Victimas Asesinadas  Victimas Heridas  \\\n",
       "0      7700 block of Lake Alice Rd SE                    5                 1   \n",
       "1                 2310 N Highland Ave                    1                 8   \n",
       "2  9700 block of Greenwell Springs Rd                    0                 5   \n",
       "3                    2517 N Jessup St                    0                 7   \n",
       "4                         24904 MS-17                    3                 8   \n",
       "\n",
       "   Sospechosos Asesinados  Sospechosos Heridos  Sospechosos Arrestados  \\\n",
       "0                       0                    0                       1   \n",
       "1                       0                    0                       0   \n",
       "2                       0                    0                       0   \n",
       "3                       0                    0                       0   \n",
       "4                       0                    0                       0   \n",
       "\n",
       "    Latitud   Longitud  \n",
       "0  47.56812 -121.89086  \n",
       "1  35.61390  -88.81940  \n",
       "2  30.44335  -91.18664  \n",
       "3  39.95222  -75.16218  \n",
       "4  33.11464  -90.05281  "
      ]
     },
     "execution_count": 27,
     "metadata": {},
     "output_type": "execute_result"
    }
   ],
   "source": [
    "df1.head()"
   ]
  },
  {
   "cell_type": "markdown",
   "metadata": {
    "id": "P3uA_7ZWXEAY"
   },
   "source": []
  },
  {
   "cell_type": "markdown",
   "metadata": {
    "id": "hxu5ObgPh-2y"
   },
   "source": [
    "# **preguntas**"
   ]
  },
  {
   "cell_type": "markdown",
   "metadata": {
    "id": "m-6vLlsiiB5N"
   },
   "source": [
    "*  *¿Cual es el estado con más casos de incidentes con armas?*\n",
    "*  *¿Del estado con mas incidentes, cual es la ciudad con mas incidentes?*\n",
    "*  *¿Cual es el estado con menos incidentes?*\n",
    "*  *¿Del estado con menos incidentes, cual es la ciudad con menos incidentes?*\n",
    "*  *¿En que fecha se han presentado más incidentes con armas?*\n",
    "*  *¿Cual es la cantidad de sospechosos arrestados en total?*\n",
    "*  *¿Cual es el estado con más victimas heridas?*\n",
    "*  *¿Cual fue el trimestre con más incidentes?*\n",
    "*  *¿Cual es el estado donde se han presentado más victimas fatales por trimestre?*\n",
    "*  *¿Cual fue el estado con mas incidentes por mes?*"
   ]
  },
  {
   "cell_type": "markdown",
   "metadata": {},
   "source": [
    "# Incidentes por estado"
   ]
  },
  {
   "cell_type": "code",
   "execution_count": 31,
   "metadata": {},
   "outputs": [
    {
     "data": {
      "text/plain": [
       "Estado\n",
       "Illinois                32\n",
       "California              28\n",
       "Pennsylvania            27\n",
       "Texas                   26\n",
       "Florida                 25\n",
       "Missouri                21\n",
       "Alabama                 21\n",
       "Mississippi             20\n",
       "Georgia                 19\n",
       "Tennessee               16\n",
       "Ohio                    16\n",
       "New York                15\n",
       "Louisiana               14\n",
       "North Carolina          13\n",
       "Virginia                12\n",
       "Michigan                12\n",
       "District of Columbia    12\n",
       "Kentucky                11\n",
       "Indiana                 10\n",
       "Minnesota                8\n",
       "Wisconsin                7\n",
       "Oklahoma                 6\n",
       "South Carolina           6\n",
       "Arkansas                 6\n",
       "Massachusetts            6\n",
       "Washington               5\n",
       "Maryland                 5\n",
       "Connecticut              3\n",
       "Colorado                 3\n",
       "New Jersey               3\n",
       "Arizona                  3\n",
       "Nevada                   2\n",
       "Kansas                   2\n",
       "West Virginia            2\n",
       "South Dakota             2\n",
       "Hawaii                   1\n",
       "Delaware                 1\n",
       "Maine                    1\n",
       "Nebraska                 1\n",
       "Utah                     1\n",
       "New Mexico               1\n",
       "Alaska                   1\n",
       "Iowa                     1\n",
       "Name: count, dtype: int64"
      ]
     },
     "execution_count": 31,
     "metadata": {},
     "output_type": "execute_result"
    }
   ],
   "source": [
    "Estados_ataques = df1['Estado'].value_counts()\n",
    "Estados_ataques"
   ]
  },
  {
   "cell_type": "code",
   "execution_count": 33,
   "metadata": {},
   "outputs": [
    {
     "data": {
      "image/png": "[encoded data removed]",
      "text/plain": [
       "<Figure size 1300x1100 with 1 Axes>"
      ]
     },
     "metadata": {},
     "output_type": "display_data"
    }
   ],
   "source": [
    "plt.figure(figsize=(13,11))\n",
    "sns.countplot(data=df1, y=df1['Estado'])\n",
    "plt.xlabel('Cantidad de Incidentes')\n",
    "plt.ylabel('Estado')\n",
    "plt.title('Cantidad de Incidentes por Estado')\n",
    "plt.show()"
   ]
  },
  {
   "cell_type": "markdown",
   "metadata": {
    "id": "KyIKCPY9lLpz"
   },
   "source": [
    "## ¿Cual es el estado con más casos de incidentes con armas?"
   ]
  },
  {
   "cell_type": "code",
   "execution_count": 32,
   "metadata": {},
   "outputs": [
    {
     "name": "stdout",
     "output_type": "stream",
     "text": [
      "El estado con mas incidentes con armas en los estados unidos es Illinois con un total de 32 incidentes\n"
     ]
    }
   ],
   "source": [
    "print(f'El estado con mas incidentes con armas en los estados unidos es {Estados_ataques.index[0]} con un total de {Estados_ataques.iloc[0]} incidentes')"
   ]
  },
  {
   "cell_type": "markdown",
   "metadata": {},
   "source": [
    "## ¿Del estado con mas incidentes, cual es la ciudad con mas incidentes?"
   ]
  },
  {
   "cell_type": "code",
   "execution_count": null,
   "metadata": {},
   "outputs": [
    {
     "data": {
      "text/html": [
       "<div>\n",
       "<style scoped>\n",
       "    .dataframe tbody tr th:only-of-type {\n",
       "        vertical-align: middle;\n",
       "    }\n",
       "\n",
       "    .dataframe tbody tr th {\n",
       "        vertical-align: top;\n",
       "    }\n",
       "\n",
       "    .dataframe thead th {\n",
       "        text-align: right;\n",
       "    }\n",
       "</style>\n",
       "<table border=\"1\" class=\"dataframe\">\n",
       "  <thead>\n",
       "    <tr style=\"text-align: right;\">\n",
       "      <th></th>\n",
       "      <th>ID Incidente</th>\n",
       "      <th>Fecha del Incidente</th>\n",
       "      <th>Estado</th>\n",
       "      <th>Ciudad</th>\n",
       "      <th>Direccion</th>\n",
       "      <th>Victimas Asesinadas</th>\n",
       "      <th>Victimas Heridas</th>\n",
       "      <th>Sospechosos Asesinados</th>\n",
       "      <th>Sospechosos Heridos</th>\n",
       "      <th>Sospechosos Arrestados</th>\n",
       "      <th>Latitud</th>\n",
       "      <th>Longitud</th>\n",
       "    </tr>\n",
       "  </thead>\n",
       "  <tbody>\n",
       "    <tr>\n",
       "      <th>24</th>\n",
       "      <td>3029992</td>\n",
       "      <td>September 21, 2024</td>\n",
       "      <td>Minnesota</td>\n",
       "      <td>Minneapolis</td>\n",
       "      <td>10 S 5th St</td>\n",
       "      <td>2</td>\n",
       "      <td>3</td>\n",
       "      <td>0</td>\n",
       "      <td>0</td>\n",
       "      <td>0</td>\n",
       "      <td>44.97902</td>\n",
       "      <td>-93.26494</td>\n",
       "    </tr>\n",
       "    <tr>\n",
       "      <th>54</th>\n",
       "      <td>3010531</td>\n",
       "      <td>August 30, 2024</td>\n",
       "      <td>Minnesota</td>\n",
       "      <td>Burnsville</td>\n",
       "      <td>12100 River Hills Dr</td>\n",
       "      <td>0</td>\n",
       "      <td>5</td>\n",
       "      <td>0</td>\n",
       "      <td>0</td>\n",
       "      <td>0</td>\n",
       "      <td>44.76634</td>\n",
       "      <td>-93.27615</td>\n",
       "    </tr>\n",
       "    <tr>\n",
       "      <th>72</th>\n",
       "      <td>2998510</td>\n",
       "      <td>August 18, 2024</td>\n",
       "      <td>Minnesota</td>\n",
       "      <td>Minneapolis</td>\n",
       "      <td>1200 block of W Broadway Ave</td>\n",
       "      <td>0</td>\n",
       "      <td>4</td>\n",
       "      <td>0</td>\n",
       "      <td>0</td>\n",
       "      <td>0</td>\n",
       "      <td>44.97902</td>\n",
       "      <td>-93.26494</td>\n",
       "    </tr>\n",
       "    <tr>\n",
       "      <th>127</th>\n",
       "      <td>2969835</td>\n",
       "      <td>July 15, 2024</td>\n",
       "      <td>Minnesota</td>\n",
       "      <td>Minneapolis</td>\n",
       "      <td>16th Ave S and E Franklin Ave</td>\n",
       "      <td>1</td>\n",
       "      <td>5</td>\n",
       "      <td>0</td>\n",
       "      <td>0</td>\n",
       "      <td>0</td>\n",
       "      <td>44.97902</td>\n",
       "      <td>-93.26494</td>\n",
       "    </tr>\n",
       "    <tr>\n",
       "      <th>239</th>\n",
       "      <td>2925929</td>\n",
       "      <td>May 30, 2024</td>\n",
       "      <td>Minnesota</td>\n",
       "      <td>Minneapolis</td>\n",
       "      <td>2221 Blaisdell Ave</td>\n",
       "      <td>3</td>\n",
       "      <td>3</td>\n",
       "      <td>1</td>\n",
       "      <td>0</td>\n",
       "      <td>0</td>\n",
       "      <td>44.97902</td>\n",
       "      <td>-93.26494</td>\n",
       "    </tr>\n",
       "    <tr>\n",
       "      <th>252</th>\n",
       "      <td>2921097</td>\n",
       "      <td>May 25, 2024</td>\n",
       "      <td>Minnesota</td>\n",
       "      <td>Saint Paul (North Saint Paul)</td>\n",
       "      <td>2039 17th Ave E</td>\n",
       "      <td>0</td>\n",
       "      <td>4</td>\n",
       "      <td>0</td>\n",
       "      <td>0</td>\n",
       "      <td>0</td>\n",
       "      <td>44.99643</td>\n",
       "      <td>-93.01967</td>\n",
       "    </tr>\n",
       "    <tr>\n",
       "      <th>364</th>\n",
       "      <td>2839362</td>\n",
       "      <td>February 27, 2024</td>\n",
       "      <td>Minnesota</td>\n",
       "      <td>Minneapolis</td>\n",
       "      <td>E Franklin Ave and Elliot Ave</td>\n",
       "      <td>1</td>\n",
       "      <td>3</td>\n",
       "      <td>0</td>\n",
       "      <td>0</td>\n",
       "      <td>0</td>\n",
       "      <td>44.97902</td>\n",
       "      <td>-93.26494</td>\n",
       "    </tr>\n",
       "    <tr>\n",
       "      <th>372</th>\n",
       "      <td>2832334</td>\n",
       "      <td>February 18, 2024</td>\n",
       "      <td>Minnesota</td>\n",
       "      <td>Burnsville</td>\n",
       "      <td>12605 33rd Ave</td>\n",
       "      <td>3</td>\n",
       "      <td>1</td>\n",
       "      <td>1</td>\n",
       "      <td>0</td>\n",
       "      <td>0</td>\n",
       "      <td>44.76634</td>\n",
       "      <td>-93.27615</td>\n",
       "    </tr>\n",
       "  </tbody>\n",
       "</table>\n",
       "</div>"
      ],
      "text/plain": [
       "     ID Incidente Fecha del Incidente     Estado  \\\n",
       "24        3029992  September 21, 2024  Minnesota   \n",
       "54        3010531     August 30, 2024  Minnesota   \n",
       "72        2998510     August 18, 2024  Minnesota   \n",
       "127       2969835       July 15, 2024  Minnesota   \n",
       "239       2925929        May 30, 2024  Minnesota   \n",
       "252       2921097        May 25, 2024  Minnesota   \n",
       "364       2839362   February 27, 2024  Minnesota   \n",
       "372       2832334   February 18, 2024  Minnesota   \n",
       "\n",
       "                            Ciudad                      Direccion  \\\n",
       "24                     Minneapolis                    10 S 5th St   \n",
       "54                      Burnsville           12100 River Hills Dr   \n",
       "72                     Minneapolis   1200 block of W Broadway Ave   \n",
       "127                    Minneapolis  16th Ave S and E Franklin Ave   \n",
       "239                    Minneapolis             2221 Blaisdell Ave   \n",
       "252  Saint Paul (North Saint Paul)                2039 17th Ave E   \n",
       "364                    Minneapolis  E Franklin Ave and Elliot Ave   \n",
       "372                     Burnsville                 12605 33rd Ave   \n",
       "\n",
       "     Victimas Asesinadas  Victimas Heridas  Sospechosos Asesinados  \\\n",
       "24                     2                 3                       0   \n",
       "54                     0                 5                       0   \n",
       "72                     0                 4                       0   \n",
       "127                    1                 5                       0   \n",
       "239                    3                 3                       1   \n",
       "252                    0                 4                       0   \n",
       "364                    1                 3                       0   \n",
       "372                    3                 1                       1   \n",
       "\n",
       "     Sospechosos Heridos  Sospechosos Arrestados   Latitud  Longitud  \n",
       "24                     0                       0  44.97902 -93.26494  \n",
       "54                     0                       0  44.76634 -93.27615  \n",
       "72                     0                       0  44.97902 -93.26494  \n",
       "127                    0                       0  44.97902 -93.26494  \n",
       "239                    0                       0  44.97902 -93.26494  \n",
       "252                    0                       0  44.99643 -93.01967  \n",
       "364                    0                       0  44.97902 -93.26494  \n",
       "372                    0                       0  44.76634 -93.27615  "
      ]
     },
     "execution_count": 142,
     "metadata": {},
     "output_type": "execute_result"
    }
   ],
   "source": [
    "df1[df1['Estado']=='Minnesota'] "
   ]
  }
 ],
 "metadata": {
  "colab": {
   "provenance": []
  },
  "kernelspec": {
   "display_name": "Python 3",
   "name": "python3"
  },
  "language_info": {
   "codemirror_mode": {
    "name": "ipython",
    "version": 3
   },
   "file_extension": ".py",
   "mimetype": "text/x-python",
   "name": "python",
   "nbconvert_exporter": "python",
   "pygments_lexer": "ipython3",
   "version": "3.12.7"
  }
 },
 "nbformat": 4,
 "nbformat_minor": 0
}
